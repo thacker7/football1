{
 "cells": [
  {
   "cell_type": "markdown",
   "metadata": {},
   "source": [
    "## Test Project"
   ]
  },
  {
   "cell_type": "markdown",
   "metadata": {},
   "source": [
    "This project is sandbox notebook to try out and experiment some basic data programming techniques.\n",
    "It pulls data from the BBC's sports web site, specifically the latest Premiere League table.\n",
    "\n",
    "First, import required libraries."
   ]
  },
  {
   "cell_type": "code",
   "execution_count": 4,
   "metadata": {
    "collapsed": true
   },
   "outputs": [],
   "source": [
    "# import libraries\n",
    "from __future__ import division\n",
    "import numpy as np\n",
    "import pandas as pd\n",
    "from pandas import Series, DataFrame\n",
    "from pandas import read_html"
   ]
  },
  {
   "cell_type": "markdown",
   "metadata": {},
   "source": [
    "\"read_html\" is a pandas function to read data from an html web site"
   ]
  },
  {
   "cell_type": "code",
   "execution_count": null,
   "metadata": {
    "collapsed": true
   },
   "outputs": [],
   "source": [
    "# Set BBC web site as URL\n",
    "BBC_PL = 'http://www.bbc.co.uk/sport/football/tables'\n",
    "\n",
    "# Read PL table into a list & convert to data frame\n",
    "\n",
    "pltable_list = pd.io.html.read_html(BBC_PL)\n",
    "pltable_raw = pltable_list[0]"
   ]
  },
  {
   "cell_type": "markdown",
   "metadata": {},
   "source": [
    "pd.io.html.read_html() is the funtion that reads the html data"
   ]
  },
  {
   "cell_type": "code",
   "execution_count": 5,
   "metadata": {
    "collapsed": false,
    "scrolled": false
   },
   "outputs": [
    {
     "name": "stdout",
     "output_type": "stream",
     "text": [
      "              Team   P  W  D   L   F   A  GD  Pts\n",
      "0        Leicester  13  8  4   1  28  20   8   28\n",
      "1          Man Utd  13  8  3   2  19   9  10   27\n",
      "2         Man City  13  8  2   3  27  13  14   26\n",
      "3          Arsenal  13  8  2   3  23  11  12   26\n",
      "4        Tottenham  13  6  6   1  24  11  13   24\n",
      "5         West Ham  13  6  3   4  24  20   4   21\n",
      "6          Everton  13  5  5   3  24  16   8   20\n",
      "7      Southampton  13  5  5   3  19  14   5   20\n",
      "8        Liverpool  13  5  5   3  17  15   2   20\n",
      "9   Crystal Palace  13  6  1   6  14  13   1   19\n",
      "10           Stoke  13  5  4   4  11  12  -1   19\n",
      "11       West Brom  13  5  2   6  12  17  -5   17\n",
      "12         Watford  13  4  4   5  12  14  -2   16\n",
      "13         Swansea  13  3  5   5  14  18  -4   14\n",
      "14         Chelsea  13  4  2   7  17  23  -6   14\n",
      "15         Norwich  13  3  3   7  16  24  -8   12\n",
      "16       Newcastle  13  2  4   7  13  25 -12   10\n",
      "17      Sunderland  13  2  3   8  14  26 -12    9\n",
      "18     Bournemouth  13  2  3   8  14  27 -13    9\n",
      "19     Aston Villa  13  1  2  10  10  24 -14    5\n",
      "['Team' 'P' 'W' 'D' 'L' 'F' 'A' 'GD' 'Pts']\n"
     ]
    }
   ],
   "source": [
    "# Drop unnecessary frames\n",
    "pltable = pltable_raw.drop('Unnamed: 0', axis=1)\n",
    "pltable = pltable.drop('Match status', axis=1)\n",
    "pltable = pltable.drop('Last 10 games results', axis=1)\n",
    "pltable = pltable.drop('Position', axis=1)\n",
    "pltable = pltable.drop([20])\n",
    "print(pltable)"
   ]
  },
  {
   "cell_type": "code",
   "execution_count": 7,
   "metadata": {
    "collapsed": false
   },
   "outputs": [
    {
     "name": "stdout",
     "output_type": "stream",
     "text": [
      "['Team' 'P' 'W' 'D' 'L' 'F' 'A' 'GD' 'Pts']\n"
     ]
    }
   ],
   "source": [
    "print(pltable.columns.values)"
   ]
  },
  {
   "cell_type": "code",
   "execution_count": 6,
   "metadata": {
    "collapsed": false
   },
   "outputs": [
    {
     "name": "stdout",
     "output_type": "stream",
     "text": [
      "                            Unnamed: 0                  Position  \\\n",
      "0                                  NaN             No movement 1   \n",
      "1                                  NaN             No movement 2   \n",
      "2                                  NaN             No movement 3   \n",
      "3                                  NaN             No movement 4   \n",
      "4                                  NaN             No movement 5   \n",
      "5                                  NaN             No movement 6   \n",
      "6                                  NaN             No movement 7   \n",
      "7                                  NaN             No movement 8   \n",
      "8                                  NaN             No movement 9   \n",
      "9                                  NaN            No movement 10   \n",
      "10                                 NaN            No movement 11   \n",
      "11                                 NaN            No movement 12   \n",
      "12                                 NaN            No movement 13   \n",
      "13                                 NaN            No movement 14   \n",
      "14                                 NaN            No movement 15   \n",
      "15                                 NaN            No movement 16   \n",
      "16                                 NaN            No movement 17   \n",
      "17                                 NaN              Moving up 18   \n",
      "18                                 NaN            Moving down 19   \n",
      "19                                 NaN            No movement 20   \n",
      "20  \\n\\n                \\n              Last updated 7 hours ago   \n",
      "\n",
      "              Team   P   W   D   L   F   A  GD  Pts  \\\n",
      "0        Leicester  13   8   4   1  28  20   8   28   \n",
      "1          Man Utd  13   8   3   2  19   9  10   27   \n",
      "2         Man City  13   8   2   3  27  13  14   26   \n",
      "3          Arsenal  13   8   2   3  23  11  12   26   \n",
      "4        Tottenham  13   6   6   1  24  11  13   24   \n",
      "5         West Ham  13   6   3   4  24  20   4   21   \n",
      "6          Everton  13   5   5   3  24  16   8   20   \n",
      "7      Southampton  13   5   5   3  19  14   5   20   \n",
      "8        Liverpool  13   5   5   3  17  15   2   20   \n",
      "9   Crystal Palace  13   6   1   6  14  13   1   19   \n",
      "10           Stoke  13   5   4   4  11  12  -1   19   \n",
      "11       West Brom  13   5   2   6  12  17  -5   17   \n",
      "12         Watford  13   4   4   5  12  14  -2   16   \n",
      "13         Swansea  13   3   5   5  14  18  -4   14   \n",
      "14         Chelsea  13   4   2   7  17  23  -6   14   \n",
      "15         Norwich  13   3   3   7  16  24  -8   12   \n",
      "16       Newcastle  13   2   4   7  13  25 -12   10   \n",
      "17      Sunderland  13   2   3   8  14  26 -12    9   \n",
      "18     Bournemouth  13   2   3   8  14  27 -13    9   \n",
      "19     Aston Villa  13   1   2  10  10  24 -14    5   \n",
      "20             NaN NaN NaN NaN NaN NaN NaN NaN  NaN   \n",
      "\n",
      "                                Last 10 games results  \\\n",
      "0         Draw Win Draw Loss Win Draw Win Win Win Win   \n",
      "1         Loss Win Win Win Loss Win Draw Draw Win Win   \n",
      "2        Win Win Loss Loss Win Win Draw Win Draw Loss   \n",
      "3          Win Win Loss Win Win Win Win Win Draw Loss   \n",
      "4         Draw Win Win Win Draw Draw Win Win Draw Win   \n",
      "5        Win Win Win Draw Draw Win Win Loss Draw Loss   \n",
      "6       Draw Win Draw Win Draw Loss Loss Win Draw Win   \n",
      "7        Win Draw Loss Win Win Draw Draw Win Win Loss   \n",
      "8      Loss Loss Draw Win Draw Draw Draw Win Loss Win   \n",
      "9       Win Loss Loss Win Win Loss Loss Draw Win Loss   \n",
      "10       Loss Loss Draw Win Win Win Loss Draw Win Win   \n",
      "11       Win Draw Win Loss Loss Win Win Loss Loss Win   \n",
      "12      Loss Win Win Loss Draw Loss Win Win Loss Loss   \n",
      "13    Win Loss Draw Loss Draw Loss Win Loss Loss Draw   \n",
      "14     Loss Loss Win Draw Loss Win Loss Loss Loss Win   \n",
      "15    Loss Win Draw Draw Loss Loss Loss Loss Win Loss   \n",
      "16    Loss Loss Loss Draw Loss Win Loss Draw Win Loss   \n",
      "17    Draw Loss Loss Loss Draw Loss Win Loss Loss Win   \n",
      "18   Draw Loss Win Loss Draw Loss Loss Loss Loss Draw   \n",
      "19  Draw Loss Loss Loss Loss Loss Loss Loss Draw Loss   \n",
      "20                                                NaN   \n",
      "\n",
      "                             Match status  \n",
      "0        Report of Leicester's last match  \n",
      "1          Report of Man Utd's last match  \n",
      "2         Report of Man City's last match  \n",
      "3          Report of Arsenal's last match  \n",
      "4        Report of Tottenham's last match  \n",
      "5         Report of West Ham's last match  \n",
      "6          Report of Everton's last match  \n",
      "7      Report of Southampton's last match  \n",
      "8        Report of Liverpool's last match  \n",
      "9   Report of Crystal Palace's last match  \n",
      "10           Report of Stoke's last match  \n",
      "11       Report of West Brom's last match  \n",
      "12         Report of Watford's last match  \n",
      "13         Report of Swansea's last match  \n",
      "14         Report of Chelsea's last match  \n",
      "15         Report of Norwich's last match  \n",
      "16       Report of Newcastle's last match  \n",
      "17      Report of Sunderland's last match  \n",
      "18     Report of Bournemouth's last match  \n",
      "19     Report of Aston Villa's last match  \n",
      "20                                    NaN  \n"
     ]
    }
   ],
   "source": [
    "print(pltable_raw)"
   ]
  },
  {
   "cell_type": "code",
   "execution_count": null,
   "metadata": {
    "collapsed": true
   },
   "outputs": [],
   "source": []
  }
 ],
 "metadata": {
  "kernelspec": {
   "display_name": "Python 3",
   "language": "python",
   "name": "python3"
  },
  "language_info": {
   "codemirror_mode": {
    "name": "ipython",
    "version": 3
   },
   "file_extension": ".py",
   "mimetype": "text/x-python",
   "name": "python",
   "nbconvert_exporter": "python",
   "pygments_lexer": "ipython3",
   "version": "3.4.3"
  }
 },
 "nbformat": 4,
 "nbformat_minor": 0
}
