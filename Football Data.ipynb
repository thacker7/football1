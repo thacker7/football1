{
 "cells": [
  {
   "cell_type": "code",
   "execution_count": 1,
   "metadata": {
    "collapsed": true
   },
   "outputs": [],
   "source": [
    "# import libraries\n",
    "from __future__ import division\n",
    "import numpy as np\n",
    "import pandas as pd\n",
    "from pandas import Series, DataFrame\n",
    "from pandas import read_html"
   ]
  },
  {
   "cell_type": "code",
   "execution_count": 3,
   "metadata": {
    "collapsed": false,
    "scrolled": false
   },
   "outputs": [
    {
     "name": "stdout",
     "output_type": "stream",
     "text": [
      "              Team   P  W  D   L   F   A  GD  Pts\n",
      "0        Leicester  13  8  4   1  28  20   8   28\n",
      "1          Man Utd  13  8  3   2  19   9  10   27\n",
      "2         Man City  13  8  2   3  27  13  14   26\n",
      "3          Arsenal  13  8  2   3  23  11  12   26\n",
      "4        Tottenham  13  6  6   1  24  11  13   24\n",
      "5         West Ham  13  6  3   4  24  20   4   21\n",
      "6          Everton  13  5  5   3  24  16   8   20\n",
      "7      Southampton  13  5  5   3  19  14   5   20\n",
      "8        Liverpool  13  5  5   3  17  15   2   20\n",
      "9   Crystal Palace  12  6  1   5  14  12   2   19\n",
      "10           Stoke  13  5  4   4  11  12  -1   19\n",
      "11       West Brom  13  5  2   6  12  17  -5   17\n",
      "12         Watford  13  4  4   5  12  14  -2   16\n",
      "13         Swansea  13  3  5   5  14  18  -4   14\n",
      "14         Chelsea  13  4  2   7  17  23  -6   14\n",
      "15         Norwich  13  3  3   7  16  24  -8   12\n",
      "16       Newcastle  13  2  4   7  13  25 -12   10\n",
      "17     Bournemouth  13  2  3   8  14  27 -13    9\n",
      "18      Sunderland  12  1  3   8  13  26 -13    6\n",
      "19     Aston Villa  13  1  2  10  10  24 -14    5\n",
      "['Team' 'P' 'W' 'D' 'L' 'F' 'A' 'GD' 'Pts']\n"
     ]
    }
   ],
   "source": [
    "# Set BBC web site as URL\n",
    "BBC_PL = 'http://www.bbc.co.uk/sport/football/tables'\n",
    "\n",
    "# Read PL table into a list & confvert to data frame\n",
    "\n",
    "pltable_list = pd.io.html.read_html(BBC_PL)\n",
    "pltable_raw = pltable_list[0]\n",
    "\n",
    "\n",
    "# Drop unnecessary frames\n",
    "pltable = pltable_raw.drop('Unnamed: 0', axis=1)\n",
    "pltable = pltable.drop('Match status', axis=1)\n",
    "pltable = pltable.drop('Last 10 games results', axis=1)\n",
    "pltable = pltable.drop('Position', axis=1)\n",
    "pltable = pltable.drop([20])\n",
    "print(pltable)\n",
    "print(pltable.columns.values)\n",
    "\n",
    "\n"
   ]
  },
  {
   "cell_type": "code",
   "execution_count": 4,
   "metadata": {
    "collapsed": false
   },
   "outputs": [
    {
     "data": {
      "text/plain": [
       "0                No movement 1\n",
       "1                No movement 2\n",
       "2                No movement 3\n",
       "3                No movement 4\n",
       "4                No movement 5\n",
       "5                No movement 6\n",
       "6                No movement 7\n",
       "7                No movement 8\n",
       "8                No movement 9\n",
       "9               No movement 10\n",
       "10              No movement 11\n",
       "11              No movement 12\n",
       "12              No movement 13\n",
       "13              No movement 14\n",
       "14              No movement 15\n",
       "15              No movement 16\n",
       "16              No movement 17\n",
       "17              No movement 18\n",
       "18              No movement 19\n",
       "19              No movement 20\n",
       "20    Last updated 5 hours ago\n",
       "Name: Position, dtype: object"
      ]
     },
     "execution_count": 4,
     "metadata": {},
     "output_type": "execute_result"
    }
   ],
   "source": [
    "pltable_raw.Position"
   ]
  },
  {
   "cell_type": "code",
   "execution_count": null,
   "metadata": {
    "collapsed": true
   },
   "outputs": [],
   "source": []
  }
 ],
 "metadata": {
  "kernelspec": {
   "display_name": "Python 3",
   "language": "python",
   "name": "python3"
  },
  "language_info": {
   "codemirror_mode": {
    "name": "ipython",
    "version": 3
   },
   "file_extension": ".py",
   "mimetype": "text/x-python",
   "name": "python",
   "nbconvert_exporter": "python",
   "pygments_lexer": "ipython3",
   "version": "3.4.3"
  }
 },
 "nbformat": 4,
 "nbformat_minor": 0
}
